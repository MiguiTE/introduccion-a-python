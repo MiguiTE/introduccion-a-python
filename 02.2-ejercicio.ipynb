{
 "cells": [
  {
   "cell_type": "code",
   "execution_count": 31,
   "metadata": {},
   "outputs": [
    {
     "name": "stdout",
     "output_type": "stream",
     "text": [
      "l: [71, 20, 20, 69, 42, 97, 49, 48, 36, 76, 75, 7, 12, 55, 19, 69, 93, 36, 4, 70, 29, 43, 39, 45, 76, 30, 22, 5, 26, 45, 35, 68, 11, 20, 21, 88, 52, 59, 20, 95, 66, 65, 65, 65, 10, 89, 45, 60, 57, 3, 75, 71, 1, 18, 4, 80, 67, 30, 79, 95, 23, 42, 90, 30, 77, 79, 64, 37, 58, 32, 82, 10, 23, 27, 46, 20, 48, 90, 30, 39, 77, 49, 75, 47, 6, 68, 67, 30, 40, 27, 30, 89, 90, 63, 20, 59, 55, 59, 70, 32]\n",
      "\n",
      "m: [45, 61, 13, 72, 8, 67, 75, 12, 13, 13, 27, 19, 26, 97, 89, 2, 3, 80, 12, 14, 20, 10, 11, 53, 94, 10, 10, 42, 0, 52, 47, 89, 15, 40, 31, 89, 82, 1, 69, 30, 1, 72, 11, 85, 33, 11, 77, 99, 77, 36, 77, 24, 8, 82, 48, 93, 0, 44, 95, 57, 12, 35, 12, 22, 5, 24, 11, 10, 30, 37, 15, 17, 66, 44, 82, 2, 33, 95, 48, 20, 98, 72, 97, 25, 69, 24, 61, 54, 35, 1, 75, 33, 4, 65, 50, 67, 55, 95, 65, 19]\n"
     ]
    },
    {
     "ename": "TypeError",
     "evalue": "'list' object is not callable",
     "output_type": "error",
     "traceback": [
      "\u001b[0;31m---------------------------------------------------------------------------\u001b[0m",
      "\u001b[0;31mTypeError\u001b[0m                                 Traceback (most recent call last)",
      "\u001b[0;32m<ipython-input-31-6957b36aff1c>\u001b[0m in \u001b[0;36m<module>\u001b[0;34m()\u001b[0m\n\u001b[1;32m     16\u001b[0m \u001b[0mlista\u001b[0m \u001b[0;34m=\u001b[0m \u001b[0;34m[\u001b[0m\u001b[0mi\u001b[0m \u001b[0;32mfor\u001b[0m \u001b[0mi\u001b[0m \u001b[0;32min\u001b[0m \u001b[0ml\u001b[0m \u001b[0;32mif\u001b[0m \u001b[0;34m(\u001b[0m\u001b[0mi\u001b[0m \u001b[0;32mnot\u001b[0m \u001b[0;32min\u001b[0m \u001b[0mm\u001b[0m\u001b[0;34m)\u001b[0m \u001b[0;32mand\u001b[0m \u001b[0;34m(\u001b[0m\u001b[0mi\u001b[0m \u001b[0;32mnot\u001b[0m \u001b[0;32min\u001b[0m \u001b[0mlista\u001b[0m\u001b[0;34m)\u001b[0m\u001b[0;34m]\u001b[0m\u001b[0;34m;\u001b[0m\u001b[0;34m\u001b[0m\u001b[0m\n\u001b[1;32m     17\u001b[0m \u001b[0mlista\u001b[0m \u001b[0;34m=\u001b[0m \u001b[0mset\u001b[0m\u001b[0;34m(\u001b[0m\u001b[0mlista\u001b[0m\u001b[0;34m)\u001b[0m\u001b[0;34m;\u001b[0m\u001b[0;34m\u001b[0m\u001b[0m\n\u001b[0;32m---> 18\u001b[0;31m \u001b[0mlista\u001b[0m \u001b[0;34m=\u001b[0m \u001b[0mlist\u001b[0m\u001b[0;34m(\u001b[0m\u001b[0mlista\u001b[0m\u001b[0;34m)\u001b[0m\u001b[0;34m;\u001b[0m\u001b[0;34m\u001b[0m\u001b[0m\n\u001b[0m\u001b[1;32m     19\u001b[0m \u001b[0mlista\u001b[0m\u001b[0;34m.\u001b[0m\u001b[0msort\u001b[0m\u001b[0;34m(\u001b[0m\u001b[0;34m)\u001b[0m\u001b[0;34m;\u001b[0m\u001b[0;34m\u001b[0m\u001b[0m\n\u001b[1;32m     20\u001b[0m \u001b[0mprint\u001b[0m\u001b[0;34m(\u001b[0m\u001b[0;34m)\u001b[0m\u001b[0;34m;\u001b[0m\u001b[0;34m\u001b[0m\u001b[0m\n",
      "\u001b[0;31mTypeError\u001b[0m: 'list' object is not callable"
     ]
    }
   ],
   "source": [
    "# Escribir el codigo necesario para generar una lista que contenga\n",
    "# los elementos de l que no están en m\n",
    "\n",
    "import random\n",
    "\n",
    "l = [int(100*random.random()) for i in range(100)]\n",
    "m = [int(100*random.random()) for i in range(100)]\n",
    "\n",
    "print(\"l:\", l)\n",
    "print()\n",
    "print(\"m:\", m)\n",
    "\n",
    "# Escribe aquí el código\n",
    "#no debe haber repetidos, probar luego\n",
    "lista = [];\n",
    "lista = [i for i in l if (i not in m) and (i not in lista)];\n",
    "lista = set(lista);\n",
    "lista = list(lista);\n",
    "lista.sort();\n",
    "print();\n",
    "print(\"nueva lista: \", lista);"
   ]
  },
  {
   "cell_type": "code",
   "execution_count": 2,
   "metadata": {},
   "outputs": [
    {
     "name": "stdout",
     "output_type": "stream",
     "text": [
      "[0, 1, 1, 2, 3, 5, 8, 13, 21, 34, 55, 89, 144, 233, 377, 610, 987, 1597, 2584, 4181, 6765]\n"
     ]
    }
   ],
   "source": [
    "# Escribir el código necesario para calcular la sucesión de Fibonacci\n",
    "# para los \"n\" primeros términos, utilizando el esqueleto siguiente\n",
    "\n",
    "n = 20\n",
    "\n",
    "fib = [0, 1]  # Los dos primeros valores de la sucesión.\n",
    "\n",
    "# Escribe aquí el código\n",
    "for i in range(1,n):\n",
    "    fib.append(fib[i-1]+fib[i]);\n",
    "print(fib);"
   ]
  },
  {
   "cell_type": "code",
   "execution_count": 3,
   "metadata": {},
   "outputs": [
    {
     "name": "stdout",
     "output_type": "stream",
     "text": [
      "I will cheer for you! Enter a word: hola\n",
      "Enthusiasm level (1-10): 1\n",
      "Give me an h! h\n",
      "Give me an o! o\n",
      "Give me an l! l\n",
      "Give me an a! a\n",
      "What does that spell?\n",
      "hola !!!\n"
     ]
    }
   ],
   "source": [
    "# El siguiente código hace uso de un bucle while, cuando\n",
    "# no es necesario. Escribir el código utilizando un bucle for\n",
    "\n",
    "an_letters = \"aefhilmnorsxAEFHILMNORSX\"\n",
    "word = input(\"I will cheer for you! Enter a word: \")  # Input nos pide que introduzcamos un valor por consola\n",
    "times = int(input(\"Enthusiasm level (1-10): \"))  # El valor es siempre un string, pero necesitamos un entero,\n",
    "                                                 # \"int()\" lo convierte a entero\n",
    "\n",
    "i = 0\n",
    "#while i < len(word):\n",
    "#    char = word[i]\n",
    "for char in word:\n",
    "    if char in an_letters:\n",
    "        print(\"Give me an \" + char + \"! \" + char)\n",
    "    else:\n",
    "        print(\"Give me a  \" + char + \"! \" + char)\n",
    "    i += 1\n",
    "print(\"What does that spell?\")\n",
    "for i in range(times):\n",
    "    print(word, \"!!!\")"
   ]
  },
  {
   "cell_type": "code",
   "execution_count": 8,
   "metadata": {},
   "outputs": [
    {
     "name": "stdout",
     "output_type": "stream",
     "text": [
      "l: [1, 2, 3, 4, 5]\n",
      "m: [5, 4, 3, 2, 1]\n"
     ]
    }
   ],
   "source": [
    "# El siguiente código debería crear una lista \"m\"\n",
    "# que contiene los elemenos de \"l\" en orden inverso,\n",
    "# pero contiene errores.\n",
    "\n",
    "l = [1, 2, 3, 4, 5]\n",
    "\n",
    "m = l.copy();\n",
    "for i in range(len(m)):\n",
    "    j = len(m) - (i+1)\n",
    "    m[j] = l[i]\n",
    "    \n",
    "print(\"l:\", l)\n",
    "print(\"m:\", m)"
   ]
  },
  {
   "cell_type": "code",
   "execution_count": 4,
   "metadata": {},
   "outputs": [
    {
     "name": "stdout",
     "output_type": "stream",
     "text": [
      "[2, 3, 5, 7, 11, 13, 17, 19, 23, 29]\n"
     ]
    }
   ],
   "source": [
    "# El siguiente código debería obtener los números primos que\n",
    "# existan hasta \"n\", incluyendo \"n\", pero contiene errores.\n",
    "\n",
    "n = 30\n",
    "primos = [2];\n",
    "# Inicializo la lista de numeros primos\n",
    "#primos.append(2)\n",
    "    \n",
    "# Itero sobre los numeros\n",
    "#for i in range(len(primos)):\n",
    "#    # go through each of 2...n\n",
    "#    for j in range(1,n):\n",
    "#        # check if not divisible by elem of list\n",
    "#        if j % primos[i] != 0:\n",
    "#            primos.append(i)\n",
    "            \n",
    "for i in range(3,n):\n",
    "    for j in primos:\n",
    "        if i % j == 0:\n",
    "            break;\n",
    "    else:\n",
    "        primos.append(i);\n",
    "#primos = set(primos);\n",
    "print(primos);"
   ]
  },
  {
   "cell_type": "code",
   "execution_count": null,
   "metadata": {},
   "outputs": [],
   "source": []
  },
  {
   "cell_type": "code",
   "execution_count": null,
   "metadata": {},
   "outputs": [],
   "source": []
  }
 ],
 "metadata": {
  "kernelspec": {
   "display_name": "Python 3",
   "language": "python",
   "name": "python3"
  },
  "language_info": {
   "codemirror_mode": {
    "name": "ipython",
    "version": 3
   },
   "file_extension": ".py",
   "mimetype": "text/x-python",
   "name": "python",
   "nbconvert_exporter": "python",
   "pygments_lexer": "ipython3",
   "version": "3.6.5"
  }
 },
 "nbformat": 4,
 "nbformat_minor": 2
}

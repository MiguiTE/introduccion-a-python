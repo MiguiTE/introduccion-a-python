{
 "cells": [
  {
   "cell_type": "markdown",
   "metadata": {},
   "source": [
    "Crear una clase `Fraccion` que implemente la representación de un número como una fracción (i.e. numerador/denominador).\n",
    "\n",
    "Debe implementar los siguientes métodos:\n",
    "* Suma\n",
    "* Resta\n",
    "* Multiplicación\n",
    "* Inversa\n",
    "* Imprimir su representación\n",
    "* Extra: Posibilidad de convertir el objeto a flotante."
   ]
  },
  {
   "cell_type": "code",
   "execution_count": 63,
   "metadata": {},
   "outputs": [],
   "source": [
    "def gcd(a,b):\n",
    "    \"\"\"Retorna el maximo comun divisor de dos numeros\"\"\"\n",
    "    a = abs(a);\n",
    "    b = abs(b);\n",
    "    if b > a:\n",
    "        tmp = a;\n",
    "        a = b;\n",
    "        b = tmp;\n",
    "    while b != 0:\n",
    "        r = a % b;\n",
    "        a = b;\n",
    "        b = r;\n",
    "    return a;\n",
    "\n",
    "    \n",
    "class Fraccion(object):\n",
    "    \n",
    "    def __init__(self, a, b):\n",
    "        \"\"\"inicializa la fraccion a/b\"\"\"\n",
    "        self.a = a;\n",
    "        self.b = b;\n",
    "    \n",
    "    def __str__(self):\n",
    "        \"\"\"Da formato a la fraccion a/b, si b = 1 retorna a\"\"\"\n",
    "        if self.b == 1:\n",
    "            return str(self.a);\n",
    "        else:\n",
    "            return \"{0} / {1}\".format(self.a, self.b);\n",
    "    \n",
    "    def sumar(self, other):\n",
    "        \"\"\"suma de fracciones. self + other\"\"\"\n",
    "        self.a = self.a * other.b + self.b * other.a;\n",
    "        self.b = self.b * other.b;\n",
    "        self.reducir();\n",
    "    \n",
    "    def restar(self, other):\n",
    "        \"\"\"diferencia de fracciones. self - other\"\"\"\n",
    "        self.opuesto();\n",
    "        self.sumar(other);\n",
    "        \n",
    "    def multiplicar(self, other):\n",
    "        \"\"\"multiplicacion de fracciones. self * other\"\"\"\n",
    "        self.a = self.a * other.a;\n",
    "        self.b = self.b * other.b;\n",
    "        self.reducir();\n",
    "    \n",
    "    def dividir(self, other):\n",
    "        \"\"\"division de fracciones. self / other\"\"\"\n",
    "        self.inverso();\n",
    "        self.multiplicar(other);\n",
    "        \n",
    "    def toFloat(self):\n",
    "        \"\"\"retorna el re\"\"\"\n",
    "        return self.a / self.b;\n",
    "    \n",
    "    def reducir(self):\n",
    "        divisor = gcd(self.a, self.b);\n",
    "        if divisor != 1:\n",
    "            self.a = self.a // divisor;\n",
    "            self.b = self.b // divisor;\n",
    "            \n",
    "    def opuesto(self):\n",
    "        self.a = self.a * (-1);\n",
    "    \n",
    "    def inverso(self):\n",
    "        tmp = self.a;\n",
    "        self.a = self.b;\n",
    "        self.b = tmp;\n",
    "    \n",
    "    "
   ]
  },
  {
   "cell_type": "code",
   "execution_count": 64,
   "metadata": {},
   "outputs": [
    {
     "name": "stdout",
     "output_type": "stream",
     "text": [
      "None\n"
     ]
    }
   ],
   "source": [
    "frac1 = Fraccion(1,3);\n",
    "frac2 = Fraccion(1,2);\n",
    "print(frac2.restar(frac1));"
   ]
  },
  {
   "cell_type": "code",
   "execution_count": null,
   "metadata": {},
   "outputs": [],
   "source": []
  }
 ],
 "metadata": {
  "kernelspec": {
   "display_name": "Python 3",
   "language": "python",
   "name": "python3"
  },
  "language_info": {
   "codemirror_mode": {
    "name": "ipython",
    "version": 3
   },
   "file_extension": ".py",
   "mimetype": "text/x-python",
   "name": "python",
   "nbconvert_exporter": "python",
   "pygments_lexer": "ipython3",
   "version": "3.6.5"
  }
 },
 "nbformat": 4,
 "nbformat_minor": 2
}

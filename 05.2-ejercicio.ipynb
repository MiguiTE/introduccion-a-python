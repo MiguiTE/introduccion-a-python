{
 "cells": [
  {
   "cell_type": "markdown",
   "metadata": {},
   "source": [
    "Crear una clase `Fraccion` que implemente la representación de un número como una fracción (i.e. numerador/denominador).\n",
    "\n",
    "Debe implementar los siguientes métodos:\n",
    "* Suma\n",
    "* Resta\n",
    "* Multiplicación\n",
    "* Inversa\n",
    "* Imprimir su representación\n",
    "* Extra: Posibilidad de convertir el objeto a flotante."
   ]
  },
  {
   "cell_type": "code",
   "execution_count": 23,
   "metadata": {},
   "outputs": [],
   "source": [
    "def gcd(a,b):\n",
    "    \"\"\"Retorna el maximo comun divisor de dos numeros\"\"\"\n",
    "    a = abs(a);\n",
    "    b = abs(b);\n",
    "    if b > a:\n",
    "        tmp = a;\n",
    "        a = b;\n",
    "        b = tmp;\n",
    "    while b != 0:\n",
    "        r = a % b;\n",
    "        a = b;\n",
    "        b = r;\n",
    "    return a;\n",
    "\n",
    "    \n",
    "class Fraccion(object):\n",
    "    \n",
    "    def __init__(self, a, b):\n",
    "        \"\"\"inicializa la fraccion a/b\"\"\"\n",
    "        self.a = a;\n",
    "        self.b = b;\n",
    "    \n",
    "    def __str__(self):\n",
    "        \"\"\"Da formato a la fraccion a/b, si b = 1 retorna a\"\"\"\n",
    "        if self.b == 1:\n",
    "            return str(self.a);\n",
    "        else:\n",
    "            return \"{0} / {1}\".format(self.a, self.b);\n",
    "    \n",
    "    def __add__(self, other):\n",
    "        \"\"\"suma de fracciones. self + other\"\"\"\n",
    "        self.a = self.a * other.b + self.b * other.a;\n",
    "        self.b = self.b * other.b;\n",
    "        return self.reducir();\n",
    "    \n",
    "    def __sub__(self, other):\n",
    "        \"\"\"diferencia de fracciones. self - other\"\"\"\n",
    "        tmp = self.opuesto();\n",
    "        return tmp + other;\n",
    "        \n",
    "    def __mul__(self, other):\n",
    "        \"\"\"multiplicacion de fracciones. self * other\"\"\"\n",
    "        a = self.a * other.a;\n",
    "        b = self.b * other.b;\n",
    "        tmp = Fraccion(a,b);\n",
    "        return tmp.reducir();\n",
    "    \n",
    "    def __div__(self, other):\n",
    "        \"\"\"division de fracciones. self / other\"\"\"\n",
    "        tmp = self.inverso();\n",
    "        return tmp * other;\n",
    "        \n",
    "    def __truediv__(self, other):\n",
    "        \"\"\"division de fracciones. self / other\"\"\"\n",
    "        tmp = self.inverso();\n",
    "        return tmp * other;\n",
    "    \n",
    "    def __pow__(self, a):\n",
    "        if a > 0:\n",
    "            return Fraccion(self.a ** a, self.b ** a);\n",
    "        elif a < 0:\n",
    "            return Fraccion(self.b ** abs(a), self.a ** abs(a));\n",
    "        else:\n",
    "            return Fraccion(1,1);\n",
    "    \n",
    "    def toFloat(self):\n",
    "        \"\"\"retorna el re\"\"\"\n",
    "        return self.a / self.b;\n",
    "    \n",
    "    def reducir(self):\n",
    "        a = self.a;\n",
    "        b = self.b;\n",
    "        divisor = gcd(self.a, self.b);\n",
    "        if divisor != 1:\n",
    "            a = self.a // divisor;\n",
    "            b = self.b // divisor;\n",
    "        return Fraccion(a,b);\n",
    "    \n",
    "    def opuesto(self):\n",
    "        return Fraccion(self.a * - 1, self.b);\n",
    "    \n",
    "    def inverso(self):\n",
    "        return Fraccion(self.b, self.a);\n",
    "    \n",
    "    "
   ]
  },
  {
   "cell_type": "code",
   "execution_count": 25,
   "metadata": {},
   "outputs": [
    {
     "name": "stdout",
     "output_type": "stream",
     "text": [
      "1\n"
     ]
    }
   ],
   "source": [
    "frac1 = Fraccion(1,2); \n",
    "frac2 = Fraccion(1,2); \n",
    "frac3 = frac3 ** 2;\n",
    "print(frac3);"
   ]
  },
  {
   "cell_type": "code",
   "execution_count": null,
   "metadata": {},
   "outputs": [],
   "source": []
  }
 ],
 "metadata": {
  "kernelspec": {
   "display_name": "Python 3",
   "language": "python",
   "name": "python3"
  },
  "language_info": {
   "codemirror_mode": {
    "name": "ipython",
    "version": 3
   },
   "file_extension": ".py",
   "mimetype": "text/x-python",
   "name": "python",
   "nbconvert_exporter": "python",
   "pygments_lexer": "ipython3",
   "version": "3.6.5"
  }
 },
 "nbformat": 4,
 "nbformat_minor": 2
}

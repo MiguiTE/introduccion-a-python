{
 "cells": [
  {
   "cell_type": "markdown",
   "metadata": {},
   "source": [
    "A partir del código siguiente se pide"
   ]
  },
  {
   "cell_type": "code",
   "execution_count": 1,
   "metadata": {},
   "outputs": [],
   "source": [
    "import math\n",
    "\n",
    "class Shape(object):\n",
    "    \"\"\"A generic shape object.\"\"\"\n",
    "    \n",
    "    def area(self):\n",
    "        \"\"\"Return area of the shape.\"\"\"\n",
    "        pass\n",
    "    \n",
    "    def perimeter(self):\n",
    "        \"\"\"Return perimeter of the shape.\"\"\"\n",
    "        pass"
   ]
  },
  {
   "cell_type": "markdown",
   "metadata": {},
   "source": [
    "Implementar las clases `Square`, `Rectangle` y  `Circle`, sobreescribiendo los métodos `area` y `perimeter` para que muestren los resultados correctos"
   ]
  },
  {
   "cell_type": "code",
   "execution_count": 22,
   "metadata": {},
   "outputs": [],
   "source": [
    "class Rectangle(Shape):\n",
    "    \"\"\"A rectangle object.\"\"\"\n",
    "    \n",
    "    def __init__(self, base, height):\n",
    "        \"\"\"Create the object\"\"\"\n",
    "        self.b = base;\n",
    "        self.h = height\n",
    "        \n",
    "    def area(self):\n",
    "        \"\"\"Return the area of the rectangle\"\"\"\n",
    "        return self.b * self.h;\n",
    "    \n",
    "    def perimeter(self):\n",
    "        \"\"\"Return the perimeter of the rectangle\"\"\"\n",
    "        return 2 * self.b + 2 * self.h;\n",
    "    \n",
    "    def __add__(self, other):\n",
    "        if not isinstance(self, Rectangle):\n",
    "            return NaN\n",
    "        else:\n",
    "            return Rectangle(self.b + other.b, self.h + other.h);\n",
    "        \n",
    "    def __sub__(self, other):\n",
    "        if not isinstance(self, Rectangle):\n",
    "            return NaN\n",
    "        else:\n",
    "            return Rectangle(self.b - other.b, self.h - other.h);\n",
    "        \n",
    "    def __mul__(self, other):\n",
    "        if not isinstance(self, Rectangle):\n",
    "            return NaN\n",
    "        else:\n",
    "            return Rectangle(self.b * other.b, self.h * other.h);\n",
    "        \n",
    "        \n",
    "    def __str__(self):\n",
    "        return \"Base = {0}, Altura = {1}\".format(self.b, self.h);\n",
    "    \n",
    "class Square(Rectangle):\n",
    "    \"\"\"A square object\"\"\"\n",
    "    \n",
    "    def __init__(self, l):\n",
    "        super(Square, self).__init__(l,l);\n",
    "        self.l = l;\n",
    "        \n",
    "    def __add__(self, other):\n",
    "        if not isinstance(self, Square):\n",
    "            return NaN\n",
    "        else:\n",
    "            return Square(self.l + other.l);\n",
    "        \n",
    "    def __sub__(self, other):\n",
    "        if not isinstance(self, Square):\n",
    "            return NaN\n",
    "        else:\n",
    "            return Square(self.l - other.l);\n",
    "        \n",
    "    def __mul__(self, other):\n",
    "        if not isinstance(self, Square):\n",
    "            return NaN\n",
    "        else:\n",
    "            return Square(self.l * other.l);\n",
    "        \n",
    "    def __str__(self):\n",
    "        return \"Lado = {0}\".format(self.l);\n",
    "\n",
    "class Circle(Shape):\n",
    "    \n",
    "    def __init__(self, r):\n",
    "        self.r = r;\n",
    "        \n",
    "    def area(self):\n",
    "        return math.pi * self.r ** 2;\n",
    "    \n",
    "    def perimeter(self):\n",
    "        return 2 * math.pi * self.r;\n",
    "    \n",
    "    def __add__(self, other):\n",
    "        if not isinstance(self, Circle):\n",
    "            return NaN\n",
    "        else:\n",
    "            return Square(self.r + other.r);\n",
    "        \n",
    "    def __sub__(self, other):\n",
    "        if not isinstance(self, Circle):\n",
    "            return NaN\n",
    "        else:\n",
    "            return Square(self.r - other.r);\n",
    "    \n",
    "    def __mul__(self, other):\n",
    "        if not isinstance(self, Circle):\n",
    "            return NaN\n",
    "        else:\n",
    "            return Square(self.r * other.r);\n",
    "    \n",
    "    def __str__(self):\n",
    "        return \"Radio = {0}\".format(self.r);"
   ]
  },
  {
   "cell_type": "markdown",
   "metadata": {},
   "source": [
    "Implementar las operaciones de suma, resta, y multiplicación, suponiendo que la suma, resta y multiplicación solo se puede realizar entre objetos del mismo tipo, y que la operación se realiza sobre sus dimensiones (es decir, la suma de dos círculos se realiza sumando sus radios de su circunferencia."
   ]
  },
  {
   "cell_type": "code",
   "execution_count": 25,
   "metadata": {},
   "outputs": [
    {
     "name": "stdout",
     "output_type": "stream",
     "text": [
      "Base = 2, Altura = 3\n",
      "Lado = 2\n",
      "Radio = 2\n",
      "Base = 2, Altura = 3\n",
      "Lado = 2\n",
      "Radio = 2\n",
      "Base = 4, Altura = 9\n",
      "Lado = 4\n",
      "Lado = 4\n"
     ]
    }
   ],
   "source": [
    "rect1 = Rectangle(2,3);\n",
    "sq1 = Square(2);\n",
    "cir1 = Circle(2);\n",
    "print(rect1);\n",
    "print(sq1);\n",
    "print(cir1);\n",
    "rect2 = Rectangle(2,3);\n",
    "sq2 = Square(2);\n",
    "cir2 = Circle(2);\n",
    "print(rect2);\n",
    "print(sq2);\n",
    "print(cir2);\n",
    "rect3 = rect1 * rect2;\n",
    "sq3 = sq1 * sq2;\n",
    "cir3 = cir1 * cir2;\n",
    "print(rect3);\n",
    "print(sq3);\n",
    "print(cir3);"
   ]
  },
  {
   "cell_type": "code",
   "execution_count": null,
   "metadata": {},
   "outputs": [],
   "source": []
  }
 ],
 "metadata": {
  "kernelspec": {
   "display_name": "Python 3",
   "language": "python",
   "name": "python3"
  },
  "language_info": {
   "codemirror_mode": {
    "name": "ipython",
    "version": 3
   },
   "file_extension": ".py",
   "mimetype": "text/x-python",
   "name": "python",
   "nbconvert_exporter": "python",
   "pygments_lexer": "ipython3",
   "version": "3.6.5"
  }
 },
 "nbformat": 4,
 "nbformat_minor": 2
}

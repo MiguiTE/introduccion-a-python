{
 "cells": [
  {
   "cell_type": "markdown",
   "metadata": {},
   "source": [
    "El programa del ejercicio 3 que calculaba las palabras más utilizadas se puede reescribir de forma mucho más sencilla utilizando un `pandas`.\n",
    "\n",
    "Para ello, en lugar de devolver un diccionario en la función `words_to_frequencies` se puede devolver una `Series` de Pandas."
   ]
  },
  {
   "cell_type": "code",
   "execution_count": 11,
   "metadata": {},
   "outputs": [],
   "source": [
    "import numpy\n",
    "import pandas"
   ]
  },
  {
   "cell_type": "code",
   "execution_count": 12,
   "metadata": {},
   "outputs": [],
   "source": [
    "# Leemos el fichero\n",
    "\n",
    "lyrics = open(\"data/despacito.txt\", \"r\").read()"
   ]
  },
  {
   "cell_type": "code",
   "execution_count": 13,
   "metadata": {},
   "outputs": [],
   "source": [
    "def split_into_words(lyrics):\n",
    "    \"\"\"\n",
    "    Split a string into lowercase words, removing all punctuation characters,\n",
    "    returning the result.\n",
    "    \"\"\"\n",
    "    result = []\n",
    "    for word in lyrics.lower().split():  # lower() convierte las palabras en minusculas\n",
    "        word = word.strip(',.;()\"!')  # strip() elimina del incio y del final los caracteres que le pasemos\n",
    "        result.append(word)\n",
    "    return result"
   ]
  },
  {
   "cell_type": "code",
   "execution_count": 14,
   "metadata": {},
   "outputs": [],
   "source": [
    "def words_to_frequencies(lyrics):\n",
    "    \"\"\"\n",
    "    Convert words into frequencies. Return a pandas.Series whose keys are the\n",
    "    words with the frequency as the value\n",
    "    \"\"\"\n",
    "    freqs = {}\n",
    "    for word in lyrics:\n",
    "        if word in freqs:\n",
    "            freqs[word] += 1\n",
    "        else:\n",
    "            freqs[word] = 1\n",
    "        # Alternativa al if anterior\n",
    "        # freqs[word] = freqs.get(word, 0) + 1\n",
    "        # Otra alternativa\n",
    "        # freqs.setdefault(word, 0)\n",
    "        # freqs[word] += 1\n",
    "    return pandas.Series(freqs)"
   ]
  },
  {
   "cell_type": "code",
   "execution_count": 26,
   "metadata": {},
   "outputs": [],
   "source": [
    "def get_more_often_user_words(frequencies, threshold=10):\n",
    "    \"\"\"\n",
    "    Return a list of the words that are used more often, above\n",
    "    the *optional* threshold. If no threshold is passed, use 10.\n",
    "    \"\"\"\n",
    "    \n",
    "    return frequencies[frequencies > threshold];"
   ]
  },
  {
   "cell_type": "code",
   "execution_count": 27,
   "metadata": {},
   "outputs": [
    {
     "name": "stdout",
     "output_type": "stream",
     "text": [
      "Palabras más frecuentes con más de 10 apariciones.\n",
      "que       22\n",
      "tu        18\n",
      "quiero    12\n",
      "a         15\n",
      "dtype: int64\n",
      "\n",
      "\n",
      "Palabras más frecuentes con más de 10 apariciones.\n",
      "oh            6\n",
      "que          22\n",
      "tu           18\n",
      "el            6\n",
      "y             9\n",
      "de            9\n",
      "despacito    10\n",
      "quiero       12\n",
      "te            8\n",
      "a            15\n",
      "sube         10\n",
      "mi            6\n",
      "tus           8\n",
      "favoritos     9\n",
      "pasito        8\n",
      "poquito       8\n",
      "dtype: int64\n"
     ]
    }
   ],
   "source": [
    "words_clean = split_into_words(lyrics)\n",
    "\n",
    "freqs = words_to_frequencies(words_clean)\n",
    "print(\"Palabras más frecuentes con más de 10 apariciones.\")\n",
    "print(get_more_often_user_words(freqs))\n",
    "print(\"\\n\")\n",
    "print(\"Palabras más frecuentes con más de 10 apariciones.\")\n",
    "print(get_more_often_user_words(freqs, threshold=5))"
   ]
  },
  {
   "cell_type": "code",
   "execution_count": 31,
   "metadata": {},
   "outputs": [
    {
     "data": {
      "text/plain": [
       "<matplotlib.axes._subplots.AxesSubplot at 0x7fa09a2b95f8>"
      ]
     },
     "execution_count": 31,
     "metadata": {},
     "output_type": "execute_result"
    },
    {
     "data": {
      "image/png": "[encoded data removed]",
      "text/plain": [
       "<Figure size 720x720 with 1 Axes>"
      ]
     },
     "metadata": {},
     "output_type": "display_data"
    }
   ],
   "source": [
    "words = get_more_often_user_words(freqs, threshold=5);\n",
    "words.plot(kind=\"bar\",figsize=(10,10))"
   ]
  },
  {
   "cell_type": "code",
   "execution_count": null,
   "metadata": {},
   "outputs": [],
   "source": []
  }
 ],
 "metadata": {
  "kernelspec": {
   "display_name": "Python 3",
   "language": "python",
   "name": "python3"
  },
  "language_info": {
   "codemirror_mode": {
    "name": "ipython",
    "version": 3
   },
   "file_extension": ".py",
   "mimetype": "text/x-python",
   "name": "python",
   "nbconvert_exporter": "python",
   "pygments_lexer": "ipython3",
   "version": "3.6.5"
  }
 },
 "nbformat": 4,
 "nbformat_minor": 2
}
